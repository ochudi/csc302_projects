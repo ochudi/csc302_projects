{
 "cells": [
  {
   "cell_type": "code",
   "execution_count": 5,
   "metadata": {},
   "outputs": [
    {
     "name": "stdout",
     "output_type": "stream",
     "text": [
      "The area of the rectangle is: 300cm\n"
     ]
    }
   ],
   "source": [
    "# Non-interactive code\n",
    "\n",
    "l = 20\n",
    "b = 15\n",
    "area = l * b\n",
    "print(\"The area of the rectangle is: \" + str(area) + \"cm\")"
   ]
  },
  {
   "cell_type": "code",
   "execution_count": 6,
   "metadata": {},
   "outputs": [
    {
     "name": "stdout",
     "output_type": "stream",
     "text": [
      "The area of the rectangle is: 2598.4cm\n"
     ]
    }
   ],
   "source": [
    "# Interactive code\n",
    "\n",
    "l = eval(input(\"Input length: \"))\n",
    "b = eval(input(\"Input breadth: \"))\n",
    "area = l * b\n",
    "print(\"The area of the rectangle is: \" + str(area) + \"cm\")"
   ]
  },
  {
   "cell_type": "code",
   "execution_count": 7,
   "metadata": {},
   "outputs": [
    {
     "name": "stdout",
     "output_type": "stream",
     "text": [
      "Length: 5, Breadth: 3\n",
      "The area of the rectangle is: 15\n"
     ]
    }
   ],
   "source": [
    "class Rectangle:\n",
    "    def __init__(self, length, breadth):\n",
    "        self.length = length\n",
    "        self.breadth = breadth\n",
    "\n",
    "    def get_fn(self):\n",
    "        return f\"Length: {self.length}, Breadth: {self.breadth}\"\n",
    "\n",
    "    def calc_area(self):\n",
    "        return self.length * self.breadth\n",
    "\n",
    "    def display_area(self):\n",
    "        area = self.calc_area()\n",
    "        print(f\"The area of the rectangle is: {area}\")\n",
    "\n",
    "\n",
    "# Create an instance of the Rectangle class\n",
    "rectangle = Rectangle(5, 3)\n",
    "\n",
    "# Access the attributes and methods of the rectangle instance\n",
    "print(rectangle.get_fn())      # Output: Length: 5, Breadth: 3\n",
    "rectangle.display_area()       # Output: The area of the rectangle is: 15\n"
   ]
  },
  {
   "cell_type": "code",
   "execution_count": null,
   "metadata": {},
   "outputs": [],
   "source": []
  }
 ],
 "metadata": {
  "kernelspec": {
   "display_name": "Python 3",
   "language": "python",
   "name": "python3"
  },
  "language_info": {
   "codemirror_mode": {
    "name": "ipython",
    "version": 3
   },
   "file_extension": ".py",
   "mimetype": "text/x-python",
   "name": "python",
   "nbconvert_exporter": "python",
   "pygments_lexer": "ipython3",
   "version": "3.11.1"
  },
  "orig_nbformat": 4
 },
 "nbformat": 4,
 "nbformat_minor": 2
}
